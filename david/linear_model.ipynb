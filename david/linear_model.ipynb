{
 "cells": [
  {
   "cell_type": "code",
   "execution_count": 1,
   "metadata": {
    "collapsed": true
   },
   "outputs": [],
   "source": [
    "import pandas as pd"
   ]
  },
  {
   "cell_type": "code",
   "execution_count": 2,
   "metadata": {
    "collapsed": true
   },
   "outputs": [],
   "source": [
    "train_1=pd.read_csv('C:\\\\Users\\\\DAVID\\\\repositorios\\\\champions_kagl\\\\data\\\\data1.csv', index_col=False)\n",
    "train_2=pd.read_csv('C:\\\\Users\\\\DAVID\\\\repositorios\\\\champions_kagl\\\\data\\\\data2.csv', index_col=False)\n",
    "train_3=pd.read_csv('C:\\\\Users\\\\DAVID\\\\repositorios\\\\champions_kagl\\\\data\\\\data3.csv', index_col=False)\n",
    "train_4=pd.read_csv('C:\\\\Users\\\\DAVID\\\\repositorios\\\\champions_kagl\\\\data\\\\data4.csv', index_col=False)\n",
    "train_5=pd.read_csv('C:\\\\Users\\\\DAVID\\\\repositorios\\\\champions_kagl\\\\data\\\\data5.csv', index_col=False)\n",
    "train_6=pd.read_csv('C:\\\\Users\\\\DAVID\\\\repositorios\\\\champions_kagl\\\\data\\\\data6.csv', index_col=False)\n",
    "train_7=pd.read_csv('C:\\\\Users\\\\DAVID\\\\repositorios\\\\champions_kagl\\\\data\\\\data7.csv', index_col=False)"
   ]
  },
  {
   "cell_type": "code",
   "execution_count": 3,
   "metadata": {
    "collapsed": true
   },
   "outputs": [],
   "source": [
    "#train=pd.concat([train_1, train_2, train_3, train_4, train_5, train_6, train_7])"
   ]
  },
  {
   "cell_type": "code",
   "execution_count": 4,
   "metadata": {
    "collapsed": true
   },
   "outputs": [],
   "source": [
    "train_1=train_1.drop('Unnamed: 0', axis=1)\n",
    "train_2=train_2.drop('Unnamed: 0', axis=1)\n",
    "train_3=train_3.drop('Unnamed: 0', axis=1)\n",
    "train_4=train_4.drop('Unnamed: 0', axis=1)\n",
    "train_5=train_5.drop('Unnamed: 0', axis=1)\n",
    "train_6=train_6.drop('Unnamed: 0', axis=1)\n",
    "train_7=train_7.drop('Unnamed: 0', axis=1)"
   ]
  },
  {
   "cell_type": "code",
   "execution_count": 5,
   "metadata": {
    "collapsed": true
   },
   "outputs": [],
   "source": [
    "train_set=[train_1, train_2, train_3, train_4, train_5, train_6, train_7]"
   ]
  },
  {
   "cell_type": "code",
   "execution_count": 6,
   "metadata": {
    "collapsed": true
   },
   "outputs": [],
   "source": [
    "from sklearn import preprocessing"
   ]
  },
  {
   "cell_type": "code",
   "execution_count": 7,
   "metadata": {
    "collapsed": true
   },
   "outputs": [],
   "source": [
    "le = preprocessing.LabelEncoder()"
   ]
  },
  {
   "cell_type": "code",
   "execution_count": 8,
   "metadata": {
    "collapsed": true
   },
   "outputs": [],
   "source": [
    "train_set_label=train_set"
   ]
  },
  {
   "cell_type": "code",
   "execution_count": 10,
   "metadata": {},
   "outputs": [],
   "source": [
    "for x in train_set_label:\n",
    "    \n",
    "    le.fit(x['EPS'])\n",
    "    x['EPS']=le.transform(x['EPS'])\n",
    "\n",
    "    le.fit(x['SEXO'])\n",
    "    x['SEXO']=le.transform(x['SEXO'])\n",
    "\n",
    "    le.fit(x['DIAG'])\n",
    "    x['DIAG']=le.transform(x['DIAG'])\n",
    "\n",
    "    le.fit(x['ACTIVIDAD'])\n",
    "    x['ACTIVIDAD']=le.transform(x['ACTIVIDAD'])\n",
    "\n",
    "    le.fit(x['AMBITO'])\n",
    "    x['AMBITO']=le.transform(x['AMBITO'])\n",
    "\n",
    "    le.fit(x['FORMA_REC'])\n",
    "    x['FORMA_REC']=le.transform(x['FORMA_REC'])\n",
    "\n",
    "    le.fit(x['TIPO_COD'])\n",
    "    x['TIPO_COD']=le.transform(x['TIPO_COD'])\n",
    "\n",
    "    le.fit(x['COD_PSS'])\n",
    "    x['COD_PSS']=le.transform(x['COD_PSS'])"
   ]
  },
  {
   "cell_type": "code",
   "execution_count": 23,
   "metadata": {
    "collapsed": true
   },
   "outputs": [],
   "source": [
    "for x in train_set_label:\n",
    "    x=x.drop(['id', 'NUM_IDE', 'FECHA_SERV'], axis=1)"
   ]
  },
  {
   "cell_type": "code",
   "execution_count": 24,
   "metadata": {
    "collapsed": true
   },
   "outputs": [],
   "source": [
    "for x in train_set_label:\n",
    "    x['FECHA_NACI']=pd.to_datetime(x['FECHA_NACI'])\n",
    "    x['FECHA_NACI']=[2017-y.year for y in x['FECHA_NACI']]"
   ]
  },
  {
   "cell_type": "code",
   "execution_count": 25,
   "metadata": {},
   "outputs": [
    {
     "name": "stdout",
     "output_type": "stream",
     "text": [
      "                                NUM_IDE  EPS  FECHA_NACI  SEXO  COD_DPTO  \\\n",
      "0  00008484-F84E-4823-AF7B-C7DC88F43E62    6          47     0         8   \n",
      "1  000162AA-98B8-4425-8BA9-31363F8B520B    6          47     1         5   \n",
      "2  000162AA-98B8-4425-8BA9-31363F8B520B    6          47     1         5   \n",
      "3  000162AA-98B8-4425-8BA9-31363F8B520B    6          47     1         5   \n",
      "4  000162AA-98B8-4425-8BA9-31363F8B520B    6          47     1         5   \n",
      "\n",
      "   COD_MUNI  DIAG               FECHA_SERV  ACTIVIDAD  AMBITO  FORMA_REC  \\\n",
      "0         1  1608  2011-07-01 00:00:00.000       2874       0          1   \n",
      "1       156  2191  2011-09-03 00:00:00.000       2588       0          1   \n",
      "2       223  2191  2011-09-03 00:00:00.000       2855       0          1   \n",
      "3       182  2191  2011-09-03 00:00:00.000       2825       0          1   \n",
      "4       156  2191  2011-09-03 00:00:00.000       2562       0          1   \n",
      "\n",
      "   DIAS_ESTAN  TIPO_COD  COD_PSS                                           id  \\\n",
      "0           1         1     3683  EPS010-00008484-F84E-4823-AF7B-C7DC88F43E62   \n",
      "1          28         1      894  EPS010-000162AA-98B8-4425-8BA9-31363F8B520B   \n",
      "2          30         1      894  EPS010-000162AA-98B8-4425-8BA9-31363F8B520B   \n",
      "3           2         1      894  EPS010-000162AA-98B8-4425-8BA9-31363F8B520B   \n",
      "4           1         1      894  EPS010-000162AA-98B8-4425-8BA9-31363F8B520B   \n",
      "\n",
      "        aux  \n",
      "0   56391.0  \n",
      "1  203948.0  \n",
      "2  203948.0  \n",
      "3  203948.0  \n",
      "4  203948.0  \n",
      "                                NUM_IDE  EPS  FECHA_NACI  SEXO  COD_DPTO  \\\n",
      "0  00008484-F84E-4823-AF7B-C7DC88F43E62    4          47     0         8   \n",
      "1  00008484-F84E-4823-AF7B-C7DC88F43E62    4          47     0         8   \n",
      "2  00008484-F84E-4823-AF7B-C7DC88F43E62    4          47     0         8   \n",
      "3  00008484-F84E-4823-AF7B-C7DC88F43E62    4          47     0         8   \n",
      "4  00008484-F84E-4823-AF7B-C7DC88F43E62    4          47     0         8   \n",
      "\n",
      "   COD_MUNI  DIAG               FECHA_SERV  ACTIVIDAD  AMBITO  FORMA_REC  \\\n",
      "0         1  6067  2011-08-31 00:00:00.000       2953       0          1   \n",
      "1         1  6121  2011-07-01 00:00:00.000       2029       0          5   \n",
      "2         1  2633  2011-08-31 00:00:00.000       3001       0          1   \n",
      "3         1  6067  2011-08-31 00:00:00.000       1953       0          1   \n",
      "4         1  1819  2011-07-01 00:00:00.000       1951       0          1   \n",
      "\n",
      "   DIAS_ESTAN  TIPO_COD  COD_PSS                                           id  \\\n",
      "0           0         0      960  EPS010-00008484-F84E-4823-AF7B-C7DC88F43E62   \n",
      "1           0         0      960  EPS010-00008484-F84E-4823-AF7B-C7DC88F43E62   \n",
      "2           0         0      960  EPS010-00008484-F84E-4823-AF7B-C7DC88F43E62   \n",
      "3           0         0      960  EPS010-00008484-F84E-4823-AF7B-C7DC88F43E62   \n",
      "4           0         0      960  EPS010-00008484-F84E-4823-AF7B-C7DC88F43E62   \n",
      "\n",
      "       aux  \n",
      "0  56391.0  \n",
      "1  56391.0  \n",
      "2  56391.0  \n",
      "3  56391.0  \n",
      "4  56391.0  \n",
      "                                NUM_IDE  EPS  FECHA_NACI  SEXO  COD_DPTO  \\\n",
      "0  0000D94D-8C6D-4221-9EDC-E992C6FF64DB    4          47     1        11   \n",
      "1  000226C0-F89E-442A-BED2-97402986A39B   13          47     0        11   \n",
      "2  000226C0-F89E-442A-BED2-97402986A39B   13          47     0        11   \n",
      "3  000226C0-F89E-442A-BED2-97402986A39B   13          47     0        11   \n",
      "4  000226C0-F89E-442A-BED2-97402986A39B   13          47     0        11   \n",
      "\n",
      "   COD_MUNI  DIAG               FECHA_SERV  ACTIVIDAD  AMBITO  FORMA_REC  \\\n",
      "0         1  2361  2011-05-10 00:00:00.000       2313       0          1   \n",
      "1         1  2093  2011-08-09 00:00:00.000       2726       0          1   \n",
      "2         1  2093  2011-01-31 00:00:00.000       3826       0          1   \n",
      "3         1  2093  2011-01-31 00:00:00.000       3829       0          1   \n",
      "4         1  2093  2011-04-30 00:00:00.000       3829       0          1   \n",
      "\n",
      "   DIAS_ESTAN  TIPO_COD  COD_PSS                                           id  \\\n",
      "0           0         0     2378  EPS008-0000D94D-8C6D-4221-9EDC-E992C6FF64DB   \n",
      "1           0         0     3276  EPS037-000226C0-F89E-442A-BED2-97402986A39B   \n",
      "2           4         1    10810  EPS037-000226C0-F89E-442A-BED2-97402986A39B   \n",
      "3           3         1    10810  EPS037-000226C0-F89E-442A-BED2-97402986A39B   \n",
      "4           1         1    10810  EPS037-000226C0-F89E-442A-BED2-97402986A39B   \n",
      "\n",
      "        aux  \n",
      "0    2880.0  \n",
      "1  488818.0  \n",
      "2  488818.0  \n",
      "3  488818.0  \n",
      "4  488818.0  \n",
      "                                NUM_IDE  EPS  FECHA_NACI  SEXO  COD_DPTO  \\\n",
      "0  0000C86A-15E2-41D6-B22E-24B885845258    9          47     1        47   \n",
      "1  0000C86A-15E2-41D6-B22E-24B885845258    9          47     1        47   \n",
      "2  0000C86A-15E2-41D6-B22E-24B885845258    9          47     1        47   \n",
      "3  0000C86A-15E2-41D6-B22E-24B885845258    9          47     1        47   \n",
      "4  0000C86A-15E2-41D6-B22E-24B885845258    9          47     1        47   \n",
      "\n",
      "   COD_MUNI  DIAG               FECHA_SERV  ACTIVIDAD  AMBITO  FORMA_REC  \\\n",
      "0         1  4497  2011-05-20 00:00:00.000       3459       0          1   \n",
      "1         1  4536  2011-01-26 00:00:00.000       2058       3          5   \n",
      "2         1  2455  2011-07-01 00:00:00.000        319       0          1   \n",
      "3         1  4536  2011-06-27 00:00:00.000       2403       2          5   \n",
      "4         1  2455  2011-06-01 00:00:00.000        319       0          1   \n",
      "\n",
      "   DIAS_ESTAN  TIPO_COD  COD_PSS                                           id  \\\n",
      "0          10         1    10250  EPS016-0000C86A-15E2-41D6-B22E-24B885845258   \n",
      "1           0         0    11090  EPS016-0000C86A-15E2-41D6-B22E-24B885845258   \n",
      "2           0         0    11532  EPS016-0000C86A-15E2-41D6-B22E-24B885845258   \n",
      "3           1         0    10294  EPS016-0000C86A-15E2-41D6-B22E-24B885845258   \n",
      "4           0         0    11532  EPS016-0000C86A-15E2-41D6-B22E-24B885845258   \n",
      "\n",
      "        aux  \n",
      "0  411283.0  \n",
      "1  411283.0  \n",
      "2  411283.0  \n",
      "3  411283.0  \n",
      "4  411283.0  \n",
      "                                NUM_IDE  EPS  FECHA_NACI  SEXO  COD_DPTO  \\\n",
      "0  00005BB9-B6D7-4EB2-B017-4D8DBF6BF317    6          47     0         5   \n",
      "1  00005BB9-B6D7-4EB2-B017-4D8DBF6BF317    6          47     0         5   \n",
      "2  00005BB9-B6D7-4EB2-B017-4D8DBF6BF317    6          47     0         5   \n",
      "3  00005BB9-B6D7-4EB2-B017-4D8DBF6BF317    6          47     0         5   \n",
      "4  00005BB9-B6D7-4EB2-B017-4D8DBF6BF317    6          47     0         5   \n",
      "\n",
      "   COD_MUNI  DIAG               FECHA_SERV  ACTIVIDAD  AMBITO  FORMA_REC  \\\n",
      "0       283  4862  2011-01-26 00:00:00.000       2878       0          1   \n",
      "1       283  4810  2011-01-27 00:00:00.000       2046       3          6   \n",
      "2       246  4862  2011-01-26 00:00:00.000       3399       0          1   \n",
      "3       266  1855  2011-09-09 00:00:00.000       3266       0          1   \n",
      "4       246  2244  2011-05-23 00:00:00.000       3557       0          1   \n",
      "\n",
      "   DIAS_ESTAN  TIPO_COD  COD_PSS                                           id  \\\n",
      "0           0         0    10912  EPS010-00005BB9-B6D7-4EB2-B017-4D8DBF6BF317   \n",
      "1           0         0      824  EPS010-00005BB9-B6D7-4EB2-B017-4D8DBF6BF317   \n",
      "2           1         1     2500  EPS010-00005BB9-B6D7-4EB2-B017-4D8DBF6BF317   \n",
      "3           3         1     2500  EPS010-00005BB9-B6D7-4EB2-B017-4D8DBF6BF317   \n",
      "4           1         1     2500  EPS010-00005BB9-B6D7-4EB2-B017-4D8DBF6BF317   \n",
      "\n",
      "        aux  \n",
      "0  116151.0  \n",
      "1  116151.0  \n",
      "2  116151.0  \n",
      "3  116151.0  \n",
      "4  116151.0  \n",
      "                                NUM_IDE  EPS  FECHA_NACI  SEXO  COD_DPTO  \\\n",
      "0  0000478C-44A9-4EC4-A511-73520AFE860C   13          47     0        13   \n",
      "1  0000478C-44A9-4EC4-A511-73520AFE860C   13          47     0        13   \n",
      "2  0000478C-44A9-4EC4-A511-73520AFE860C   13          47     0        13   \n",
      "3  0000478C-44A9-4EC4-A511-73520AFE860C   13          47     0        13   \n",
      "4  0000478C-44A9-4EC4-A511-73520AFE860C   13          47     0        13   \n",
      "\n",
      "   COD_MUNI  DIAG               FECHA_SERV  ACTIVIDAD  AMBITO  FORMA_REC  \\\n",
      "0         1  4552  2011-08-18 00:00:00.000       2832       0          1   \n",
      "1         1  4552  2011-02-04 00:00:00.000       2094       0          1   \n",
      "2         1  3605  2011-02-28 00:00:00.000       3162       0          1   \n",
      "3         1   234  2011-06-30 00:00:00.000       3164       0          1   \n",
      "4         1  3605  2011-11-30 00:00:00.000       3424       0          1   \n",
      "\n",
      "   DIAS_ESTAN  TIPO_COD  COD_PSS                                           id  \\\n",
      "0           0         0     3537  EPS037-0000478C-44A9-4EC4-A511-73520AFE860C   \n",
      "1           0         0     3537  EPS037-0000478C-44A9-4EC4-A511-73520AFE860C   \n",
      "2          60         1    11186  EPS037-0000478C-44A9-4EC4-A511-73520AFE860C   \n",
      "3           1         1    11186  EPS037-0000478C-44A9-4EC4-A511-73520AFE860C   \n",
      "4          30         1    11186  EPS037-0000478C-44A9-4EC4-A511-73520AFE860C   \n",
      "\n",
      "         aux  \n",
      "0  1438749.0  \n",
      "1  1438749.0  \n",
      "2  1438749.0  \n",
      "3  1438749.0  \n",
      "4  1438749.0  \n",
      "                                NUM_IDE  EPS  FECHA_NACI  SEXO  COD_DPTO  \\\n",
      "0  0000000D-5858-4F12-A2BC-35B253DF7C7C    2          47     1        11   \n",
      "1  0000000D-5858-4F12-A2BC-35B253DF7C7C    2          47     1        11   \n",
      "2  0000000D-5858-4F12-A2BC-35B253DF7C7C    2          47     1        11   \n",
      "3  0000000D-5858-4F12-A2BC-35B253DF7C7C    2          47     1        11   \n",
      "4  000037EF-DCD9-4060-948D-F6EC6E0DD026    6          47     1         5   \n",
      "\n",
      "   COD_MUNI  DIAG               FECHA_SERV  ACTIVIDAD  AMBITO  FORMA_REC  \\\n",
      "0         1  5684  2011-08-16 00:00:00.000       3351       0          5   \n",
      "1         1  2200  2011-08-16 00:00:00.000       1825       0          1   \n",
      "2         1  5683  2011-09-20 00:00:00.000       2850       0          5   \n",
      "3         1  5684  2011-08-16 00:00:00.000       3341       0          5   \n",
      "4        44  1927  2011-01-04 00:00:00.000       2184       0          1   \n",
      "\n",
      "   DIAS_ESTAN  TIPO_COD  COD_PSS                                           id  \\\n",
      "0           1         1     2015  EPS003-0000000D-5858-4F12-A2BC-35B253DF7C7C   \n",
      "1           0         0     2015  EPS003-0000000D-5858-4F12-A2BC-35B253DF7C7C   \n",
      "2           1         1    10303  EPS003-0000000D-5858-4F12-A2BC-35B253DF7C7C   \n",
      "3          15         1     2015  EPS003-0000000D-5858-4F12-A2BC-35B253DF7C7C   \n",
      "4           0         0     9034  EPS010-000037EF-DCD9-4060-948D-F6EC6E0DD026   \n",
      "\n",
      "            aux  \n",
      "0  6.998157e+04  \n",
      "1  6.998157e+04  \n",
      "2  6.998157e+04  \n",
      "3  6.998157e+04  \n",
      "4  1.240801e+07  \n"
     ]
    }
   ],
   "source": [
    "for x in train_set_label:\n",
    "    print(x.head())"
   ]
  },
  {
   "cell_type": "code",
   "execution_count": 26,
   "metadata": {},
   "outputs": [],
   "source": [
    "from sklearn.linear_model import LinearRegression"
   ]
  },
  {
   "cell_type": "code",
   "execution_count": 27,
   "metadata": {
    "collapsed": true
   },
   "outputs": [],
   "source": [
    "lr_1=LinearRegression()\n",
    "lr_2=LinearRegression()\n",
    "lr_3=LinearRegression()\n",
    "lr_4=LinearRegression()\n",
    "lr_5=LinearRegression()\n",
    "lr_6=LinearRegression()\n",
    "lr_7=LinearRegression()"
   ]
  },
  {
   "cell_type": "code",
   "execution_count": 28,
   "metadata": {
    "collapsed": true
   },
   "outputs": [],
   "source": [
    "lr=[lr_1, lr_2, lr_3, lr_4, lr_5, lr_6, lr_7]"
   ]
  },
  {
   "cell_type": "code",
   "execution_count": 31,
   "metadata": {
    "collapsed": true
   },
   "outputs": [],
   "source": [
    "from sklearn.model_selection import train_test_split"
   ]
  },
  {
   "cell_type": "code",
   "execution_count": 32,
   "metadata": {
    "collapsed": true
   },
   "outputs": [],
   "source": [
    "X_train=[]\n",
    "X_test=[]\n",
    "y_train=[]\n",
    "y_test=[]\n",
    "for x in train_set_label:\n",
    "    X_train_tmp, X_test_tmp, y_train_tmp, y_test_tmp=train_test_split(x[['EPS', 'FECHA_NACI', 'SEXO', 'COD_DPTO', 'COD_MUNI', 'DIAG', 'ACTIVIDAD', 'AMBITO', 'FORMA_REC', 'DIAS_ESTAN', 'TIPO_COD', 'COD_PSS']], x['aux'], test_size=0.3)\n",
    "    X_train.append(X_train_tmp)\n",
    "    X_test.append(X_test_tmp)\n",
    "    y_train.append(y_train_tmp)\n",
    "    y_test.append(y_test_tmp)\n",
    "    "
   ]
  },
  {
   "cell_type": "code",
   "execution_count": 33,
   "metadata": {},
   "outputs": [],
   "source": [
    "for i in range(7):\n",
    "    lr[i].fit(X_train[i], y_train[i])"
   ]
  },
  {
   "cell_type": "code",
   "execution_count": 34,
   "metadata": {},
   "outputs": [
    {
     "name": "stdout",
     "output_type": "stream",
     "text": [
      "0.00210506517027\n",
      "0.00500942275074\n",
      "0.0064297955263\n",
      "0.00387871786633\n",
      "0.00767759005933\n",
      "0.00755199107167\n",
      "0.00176872147599\n"
     ]
    }
   ],
   "source": [
    "for i in range(7):\n",
    "    print(lr[i].score(X_test[i], y_test[i]))"
   ]
  },
  {
   "cell_type": "code",
   "execution_count": null,
   "metadata": {},
   "outputs": [],
   "source": []
  },
  {
   "cell_type": "code",
   "execution_count": null,
   "metadata": {
    "collapsed": true
   },
   "outputs": [],
   "source": []
  }
 ],
 "metadata": {
  "kernelspec": {
   "display_name": "Python 3",
   "language": "python",
   "name": "python3"
  },
  "language_info": {
   "codemirror_mode": {
    "name": "ipython",
    "version": 3
   },
   "file_extension": ".py",
   "mimetype": "text/x-python",
   "name": "python",
   "nbconvert_exporter": "python",
   "pygments_lexer": "ipython3",
   "version": "3.6.1"
  }
 },
 "nbformat": 4,
 "nbformat_minor": 2
}
